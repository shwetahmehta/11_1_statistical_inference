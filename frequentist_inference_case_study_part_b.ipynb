{
 "cells": [
  {
   "cell_type": "markdown",
   "metadata": {},
   "source": [
    "# Frequentist Inference Case Study - Part B"
   ]
  },
  {
   "cell_type": "markdown",
   "metadata": {},
   "source": [
    "## Learning objectives"
   ]
  },
  {
   "cell_type": "markdown",
   "metadata": {},
   "source": [
    "Welcome to Part B of the Frequentist inference case study! The purpose of this case study is to help you apply the concepts associated with Frequentist inference in Python. In particular, you'll practice writing Python code to apply the following statistical concepts: \n",
    "* the _z_-statistic\n",
    "* the _t_-statistic\n",
    "* the difference and relationship between the two\n",
    "* the Central Limit Theorem, including its assumptions and consequences\n",
    "* how to estimate the population mean and standard deviation from a sample\n",
    "* the concept of a sampling distribution of a test statistic, particularly for the mean\n",
    "* how to combine these concepts to calculate a confidence interval"
   ]
  },
  {
   "cell_type": "markdown",
   "metadata": {},
   "source": [
    "In the previous notebook, we used only data from a known normal distribution. **You'll now tackle real data, rather than simulated data, and answer some relevant real-world business problems using the data.**"
   ]
  },
  {
   "cell_type": "markdown",
   "metadata": {},
   "source": [
    "## Hospital medical charges"
   ]
  },
  {
   "cell_type": "markdown",
   "metadata": {},
   "source": [
    "Imagine that a hospital has hired you as their data scientist. An administrator is working on the hospital's business operations plan and needs you to help them answer some business questions. \n",
    "\n",
    "In this assignment notebook, you're going to use frequentist statistical inference on a data sample to answer the questions:\n",
    "* has the hospital's revenue stream fallen below a key threshold?\n",
    "* are patients with insurance really charged different amounts than those without?\n",
    "\n",
    "Answering that last question with a frequentist approach makes some assumptions, and requires some knowledge, about the two groups."
   ]
  },
  {
   "cell_type": "markdown",
   "metadata": {},
   "source": [
    "We are going to use some data on medical charges obtained from [Kaggle](https://www.kaggle.com/easonlai/sample-insurance-claim-prediction-dataset). \n",
    "\n",
    "For the purposes of this exercise, assume the observations are the result of random sampling from our single hospital. Recall that in the previous assignment, we introduced the Central Limit Theorem (CLT), and its consequence that the distributions of sample statistics approach a normal distribution as $n$ increases. The amazing thing about this is that it applies to the sampling distributions of statistics that have been calculated from even highly non-normal distributions of data! Recall, also, that hypothesis testing is very much based on making inferences about such sample statistics. You're going to rely heavily on the CLT to apply frequentist (parametric) tests to answer the questions in this notebook."
   ]
  },
  {
   "cell_type": "code",
   "execution_count": 8,
   "metadata": {},
   "outputs": [],
   "source": [
    "import pandas as pd\n",
    "import numpy as np\n",
    "import matplotlib.pyplot as plt\n",
    "from scipy.stats import t\n",
    "from scipy import stats #to run 1-sample t-test\n",
    "from numpy.random import seed\n",
    "medical = pd.read_csv('insurance2.csv')"
   ]
  },
  {
   "cell_type": "code",
   "execution_count": 9,
   "metadata": {},
   "outputs": [
    {
     "data": {
      "text/plain": [
       "(1338, 8)"
      ]
     },
     "execution_count": 9,
     "metadata": {},
     "output_type": "execute_result"
    }
   ],
   "source": [
    "medical.shape"
   ]
  },
  {
   "cell_type": "code",
   "execution_count": 10,
   "metadata": {},
   "outputs": [
    {
     "data": {
      "text/html": [
       "<div>\n",
       "<style scoped>\n",
       "    .dataframe tbody tr th:only-of-type {\n",
       "        vertical-align: middle;\n",
       "    }\n",
       "\n",
       "    .dataframe tbody tr th {\n",
       "        vertical-align: top;\n",
       "    }\n",
       "\n",
       "    .dataframe thead th {\n",
       "        text-align: right;\n",
       "    }\n",
       "</style>\n",
       "<table border=\"1\" class=\"dataframe\">\n",
       "  <thead>\n",
       "    <tr style=\"text-align: right;\">\n",
       "      <th></th>\n",
       "      <th>age</th>\n",
       "      <th>sex</th>\n",
       "      <th>bmi</th>\n",
       "      <th>children</th>\n",
       "      <th>smoker</th>\n",
       "      <th>region</th>\n",
       "      <th>charges</th>\n",
       "      <th>insuranceclaim</th>\n",
       "    </tr>\n",
       "  </thead>\n",
       "  <tbody>\n",
       "    <tr>\n",
       "      <th>0</th>\n",
       "      <td>19</td>\n",
       "      <td>0</td>\n",
       "      <td>27.900</td>\n",
       "      <td>0</td>\n",
       "      <td>1</td>\n",
       "      <td>3</td>\n",
       "      <td>16884.92400</td>\n",
       "      <td>1</td>\n",
       "    </tr>\n",
       "    <tr>\n",
       "      <th>1</th>\n",
       "      <td>18</td>\n",
       "      <td>1</td>\n",
       "      <td>33.770</td>\n",
       "      <td>1</td>\n",
       "      <td>0</td>\n",
       "      <td>2</td>\n",
       "      <td>1725.55230</td>\n",
       "      <td>1</td>\n",
       "    </tr>\n",
       "    <tr>\n",
       "      <th>2</th>\n",
       "      <td>28</td>\n",
       "      <td>1</td>\n",
       "      <td>33.000</td>\n",
       "      <td>3</td>\n",
       "      <td>0</td>\n",
       "      <td>2</td>\n",
       "      <td>4449.46200</td>\n",
       "      <td>0</td>\n",
       "    </tr>\n",
       "    <tr>\n",
       "      <th>3</th>\n",
       "      <td>33</td>\n",
       "      <td>1</td>\n",
       "      <td>22.705</td>\n",
       "      <td>0</td>\n",
       "      <td>0</td>\n",
       "      <td>1</td>\n",
       "      <td>21984.47061</td>\n",
       "      <td>0</td>\n",
       "    </tr>\n",
       "    <tr>\n",
       "      <th>4</th>\n",
       "      <td>32</td>\n",
       "      <td>1</td>\n",
       "      <td>28.880</td>\n",
       "      <td>0</td>\n",
       "      <td>0</td>\n",
       "      <td>1</td>\n",
       "      <td>3866.85520</td>\n",
       "      <td>1</td>\n",
       "    </tr>\n",
       "  </tbody>\n",
       "</table>\n",
       "</div>"
      ],
      "text/plain": [
       "   age  sex     bmi  children  smoker  region      charges  insuranceclaim\n",
       "0   19    0  27.900         0       1       3  16884.92400               1\n",
       "1   18    1  33.770         1       0       2   1725.55230               1\n",
       "2   28    1  33.000         3       0       2   4449.46200               0\n",
       "3   33    1  22.705         0       0       1  21984.47061               0\n",
       "4   32    1  28.880         0       0       1   3866.85520               1"
      ]
     },
     "execution_count": 10,
     "metadata": {},
     "output_type": "execute_result"
    }
   ],
   "source": [
    "medical.head()"
   ]
  },
  {
   "cell_type": "markdown",
   "metadata": {},
   "source": [
    "__Q1:__ Plot the histogram of charges and calculate the mean and standard deviation. Comment on the appropriateness of these statistics for the data."
   ]
  },
  {
   "cell_type": "markdown",
   "metadata": {},
   "source": [
    "__A:__"
   ]
  },
  {
   "cell_type": "code",
   "execution_count": 11,
   "metadata": {},
   "outputs": [
    {
     "name": "stdout",
     "output_type": "stream",
     "text": [
      "mean 13270.4\n",
      "stdev 12110.0\n"
     ]
    }
   ],
   "source": [
    "medical_charges = medical['charges']\n",
    "\n",
    "# Sample mean or point estimate (M) ~= Population Mean (mu)\n",
    "mu = np.mean(medical_charges)\n",
    "\n",
    "# Sample Standard Deviation w/ Bessel's Correction ~= Population Standard Deviation \n",
    "s = np.std(medical_charges, ddof=1)\n",
    "\n",
    "print('mean', round(mu, 1))\n",
    "print('stdev', round(s, 1))"
   ]
  },
  {
   "cell_type": "code",
   "execution_count": 12,
   "metadata": {},
   "outputs": [
    {
     "data": {
      "image/png": "[encoded data removed]",
      "text/plain": [
       "<Figure size 640x480 with 1 Axes>"
      ]
     },
     "metadata": {},
     "output_type": "display_data"
    }
   ],
   "source": [
    "_ = plt.hist(medical['charges'], bins=20)\n",
    "_ = plt.xlabel('charges/ amount')\n",
    "_ = plt.ylabel('number of charges')\n",
    "_ = plt.title('histogram of charges')\n",
    "_ = plt.axvline(mu, color='black', linestyle = '--')"
   ]
  },
  {
   "cell_type": "markdown",
   "metadata": {},
   "source": [
    "It is not appropriate to use the mean and standard deviation as appropriate statistics here because:\n",
    "- the histogram shows that the curve of medical charges is right-skewed and not normally distributed. The outliers or higher values on the right, skew the mean. Median may be a better statistic.\n",
    "- The standard deviation is also not the appropriate measure since the distribution is not normally distributed and is skewed to the right due to the outliers.\n",
    "\n",
    "Also we are not sure if this sample is representative of the population we derive the data from."
   ]
  },
  {
   "cell_type": "markdown",
   "metadata": {},
   "source": [
    "__Q2:__ The administrator is concerned that the actual average charge has fallen below 12,000, threatening the hospital's operational model. On the assumption that these data represent a random sample of charges, how would you justify that these data allow you to answer that question? And what would be the most appropriate frequentist test, of the ones discussed so far, to apply?"
   ]
  },
  {
   "cell_type": "markdown",
   "metadata": {},
   "source": [
    "__A:__\n",
    "\n",
    "Since the administrator is concerned with the actual average of charges falling below 12,000, we can use the one-sample, one-tailed t-test. We know the sample is random and sample size is sufficiently large (n> 30) so even though the random sample itself does not have a normal distribution (right skewed), the central limit theorem says that the distribution of sample means tends towards being normal and the mean of this sampling distribution approaches the population mean as the sample size increases (here n = 1383 samples). For a large sample size such as this, the t-test is more appropriate since the population standard deviation is not known. If it had been known we could have used z-test, especially since the sample size is >= 30.\n",
    "\n",
    "We can use a 95% confidence interval since its the industry standard, so our alpha = 0.05 (5%) which is the tolerance for Type 1 (false positive test)."
   ]
  },
  {
   "cell_type": "markdown",
   "metadata": {},
   "source": [
    "__Q3:__ Given the nature of the administrator's concern, what is the appropriate confidence interval in this case? A ***one-sided*** or ***two-sided*** interval? (Refresh your understanding of this concept on p. 399 of the *AoS*). Calculate the critical value and the relevant 95% confidence interval for the mean, and comment on whether the administrator should be concerned."
   ]
  },
  {
   "cell_type": "markdown",
   "metadata": {},
   "source": [
    "__A:__"
   ]
  },
  {
   "cell_type": "markdown",
   "metadata": {},
   "source": [
    "Since the administrator is concerned with the actual average of charges falling below 12,000, we can use the <b>one-sample, one-tailed t-test</b>. \n",
    "- Null Hypothesis, H0: u0 >= 12,000. The actual average charge is greater than or equal to 12,000. Charges are still sustainable for the hospital. \n",
    "- Alternative Hypothesis, H1: u1 < 12,000. The actual average charge has fallen below 12,000 and is no longer sustainable for the hospital.\n",
    "The null hypothesis is true, until proven otherwise. \n",
    "\n",
    "We can also use a 95% confidence interval since its the industry standard. This limits the risk of a Type 1 (false positive) error to 5%.\n",
    "- alpha = 0.05 (5%)"
   ]
  },
  {
   "cell_type": "code",
   "execution_count": 27,
   "metadata": {},
   "outputs": [
    {
     "name": "stdout",
     "output_type": "stream",
     "text": [
      "t-critical:  -1.6459941145571324\n",
      "t-statistic:  3.8373517196585323\n",
      "p-value:  0.9999349141739535\n"
     ]
    }
   ],
   "source": [
    "# Calculating t-stats manually\n",
    "# --------------------------------\n",
    "\n",
    "# Hypothetical population mean\n",
    "u = 12000\n",
    "\n",
    "# Critical value for alpha = 0.05 (left-tailed test)\n",
    "alpha = 0.05\n",
    "\n",
    "# Degrees of freedom\n",
    "deg_of_freedom = n-1 # 1337\n",
    "\n",
    "sample_mean = np.mean(medical['charges'])\n",
    "sample_std = np.std(medical['charges'], ddof=1)\n",
    "sample_size = medical.shape[0] # sample size\n",
    "standard_error = sample_std/ np.sqrt(sample_size) # standard error of mean sampling distribution\n",
    "\n",
    "# Calculate the t_critical\n",
    "t_critical = t.ppf(alpha, df=deg_of_freedom)\n",
    "print('t-critical: ', t_critical)\n",
    "\n",
    "# Calculate the t-statistic\n",
    "t_statistic = (sample_mean - u)/ standard_error\n",
    "print('t-statistic: ', t_statistic)\n",
    "\n",
    "# Calculate the one-tailed p-value of one-tailed test: P(T < t_stat)\n",
    "p_value = stats.t.cdf(t_statistic, df=deg_of_freedom)\n",
    "print('p-value: ', p_value)"
   ]
  },
  {
   "cell_type": "code",
   "execution_count": 28,
   "metadata": {},
   "outputs": [
    {
     "name": "stdout",
     "output_type": "stream",
     "text": [
      "t-statistic:  3.8373517196585314\n",
      "p-value:  0.9999349141739535\n"
     ]
    }
   ],
   "source": [
    "# Alternatively using stats package to calculate t-value\n",
    "# ------------------------------------------------------------------\n",
    "t_stat, p_val = stats.ttest_1samp(medical_charges, popmean=12000) # This gives a two-tailed test. \n",
    "\n",
    "# To get a one-tail left-tail test\n",
    "if t_stat < 0: \n",
    "    p_val = p_val/2 \n",
    "else:\n",
    "    p_val = 1 - (p_val/2)\n",
    "print('t-statistic: ', t_stat)\n",
    "print('p-value: ', p_val)"
   ]
  },
  {
   "cell_type": "markdown",
   "metadata": {},
   "source": [
    "Since the p-value is greater than alpha (0.05), we *cannot* reject the null hypothesis in favor of the alternative hypothesis. So the null hypothesis holds and the average charge is >= $12,000. The administrator’s concern that the average has fallen below 12,000 is not supported by the data."
   ]
  },
  {
   "cell_type": "code",
   "execution_count": 32,
   "metadata": {},
   "outputs": [
    {
     "data": {
      "image/png": "[encoded data removed]",
      "text/plain": [
       "<Figure size 1000x600 with 1 Axes>"
      ]
     },
     "metadata": {},
     "output_type": "display_data"
    }
   ],
   "source": [
    "# Create t-distribution range\n",
    "x = np.linspace(-5, 5, 500)\n",
    "y = t.pdf(x, df=deg_of_freedom)\n",
    "\n",
    "plt.figure(figsize=(10, 6))\n",
    "plt.plot(x, y, label='t-distribution (df={})'.format(deg_of_freedom))\n",
    "\n",
    "# Shade the left rejection region\n",
    "x_fill = np.linspace(-5, t_critical, 200)\n",
    "plt.fill_between(x_fill, t.pdf(x_fill, df=deg_of_freedom), color='red', alpha=0.4, label='Rejection Region (α = 0.05)')\n",
    "\n",
    "# Plot the t-statistic line\n",
    "plt.axvline(t_statistic, color='blue', linestyle='--', label='t-statistic = {:.2f}'.format(t_statistic))\n",
    "\n",
    "# Plot the critical value line\n",
    "plt.axvline(t_critical, color='black', linestyle=':', label='t-critical = {:.2f}'.format(t_critical))\n",
    "\n",
    "# Labels and legend\n",
    "plt.title('One-Sample Left-Tailed t-Test Visualization')\n",
    "plt.xlabel('t value')\n",
    "plt.ylabel('Probability Density')\n",
    "plt.legend()\n",
    "plt.grid(True)\n",
    "plt.show()"
   ]
  },
  {
   "cell_type": "markdown",
   "metadata": {},
   "source": [
    "The administrator then wants to know whether people with insurance really are charged a different amount to those without.\n",
    "\n",
    "__Q4:__ State the null and alternative hypothesis here. Use the _t_-test for the difference between means, where the pooled standard deviation of the two groups is given by:\n",
    "\\begin{equation}\n",
    "s_p = \\sqrt{\\frac{(n_0 - 1)s^2_0 + (n_1 - 1)s^2_1}{n_0 + n_1 - 2}}\n",
    "\\end{equation}\n",
    "\n",
    "and the *t*-test statistic is then given by:\n",
    "\n",
    "\\begin{equation}\n",
    "t = \\frac{\\bar{x}_0 - \\bar{x}_1}{s_p \\sqrt{1/n_0 + 1/n_1}}.\n",
    "\\end{equation}\n",
    "\n",
    "(If you need some reminding of the general definition of ***t-statistic***, check out the definition on p. 404 of *AoS*). \n",
    "\n",
    "What assumption about the variances of the two groups are we making here?"
   ]
  },
  {
   "cell_type": "markdown",
   "metadata": {},
   "source": [
    "__A:__ This is a <b>two-sample t-test for independent groups</b> (with and without insurance) \n",
    "\n",
    "- u_ins = mean charge for patients with insurance. \n",
    "- u_no_ins = mean charge for patients without insurance. \n",
    "\n",
    "Then:\n",
    "- Null Hypothesis, H0. u_ins = u_no_ins. Thus, u_ins - u_no_ins = 0. There is no difference in the average charge between patients with and without insurance.\n",
    "- Alternative Hypothesis, H1. u_ins <> u_no_ins. Thus, u_ins - u_no_ins <> 0. There is a difference in the average charge between patients with and without insurance.\n",
    "\n",
    "This is a <b>two-tailed test</b>. \n",
    "\n",
    "Key Assumption: \n",
    "- We are assuming that the two independent samples come from <b>two populations which have the same variance</b>, i.e., var_ins = var_no_ins."
   ]
  },
  {
   "cell_type": "markdown",
   "metadata": {},
   "source": [
    "__Q5:__ Perform this hypothesis test both manually, using the above formulae, and then using the appropriate function from [scipy.stats](https://docs.scipy.org/doc/scipy/reference/stats.html#statistical-tests) (hint, you're looking for a function to perform a _t_-test on two independent samples). For the manual approach, calculate the value of the test statistic and then its probability (the p-value). Verify you get the same results from both."
   ]
  },
  {
   "cell_type": "markdown",
   "metadata": {},
   "source": [
    "__A:__ "
   ]
  },
  {
   "cell_type": "code",
   "execution_count": 44,
   "metadata": {},
   "outputs": [],
   "source": [
    "# Get the approporiate datasets\n",
    "with_insurance = medical[medical['insuranceclaim'] == 1]\n",
    "no_insurance = medical[medical['insuranceclaim'] == 0]"
   ]
  },
  {
   "cell_type": "code",
   "execution_count": 47,
   "metadata": {},
   "outputs": [
    {
     "name": "stdout",
     "output_type": "stream",
     "text": [
      "sample size for patients with insurance: 783\n",
      "sample mean for group with insurance: $16423.93\n",
      "standard deviation for group with insurance: $14045.93\n",
      "\n",
      "sample size for patients without insurance: 555\n",
      "sample mean for group without insurance: $8821.42\n",
      "standard deviation for group without insurance: $6446.51\n"
     ]
    }
   ],
   "source": [
    "# Get dataset size\n",
    "n_with_insurance = with_insurance.shape[0]\n",
    "n_no_insurance = no_insurance.shape[0]\n",
    "\n",
    "# Calculate the means for the two samples\n",
    "mu_with_insurance = np.mean(with_insurance['charges'])\n",
    "mu_no_insurance = np.mean(no_insurance['charges'])\n",
    "\n",
    "# Calculate the standard deviation for the two samples\n",
    "s_with_insurance = np.std(with_insurance['charges'], ddof=1)\n",
    "s_no_insurance = np.std(no_insurance['charges'], ddof=1)\n",
    "\n",
    "\n",
    "print(f'sample size for patients with insurance: {n_with_insurance}')\n",
    "print(f'sample mean for group with insurance: ${round(mu_with_insurance, 2)}')\n",
    "print(f'standard deviation for group with insurance: ${round(s_with_insurance, 2)}\\n')\n",
    "\n",
    "print(f'sample size for patients without insurance: {n_no_insurance}')\n",
    "print(f'sample mean for group without insurance: ${round(mu_no_insurance, 2)}')\n",
    "print(f'standard deviation for group without insurance: ${round(s_no_insurance, 2)}')"
   ]
  },
  {
   "cell_type": "code",
   "execution_count": 58,
   "metadata": {},
   "outputs": [
    {
     "data": {
      "image/png": "[encoded data removed]",
      "text/plain": [
       "<Figure size 640x480 with 1 Axes>"
      ]
     },
     "metadata": {},
     "output_type": "display_data"
    }
   ],
   "source": [
    "# Plot the histogram for the two categories\n",
    "_ = plt.hist(with_insurance['charges'], bins=20, alpha=0.3, color = 'green', label='charges for the insured')\n",
    "_ = plt.hist(no_insurance['charges'], bins=20, alpha=0.3, color = 'red', label='charges for the uninsured')\n",
    "\n",
    "# Plot average charges\n",
    "_ = plt.axvline(mu_with_insurance, color='green', linestyle = ':', label='average charge for the insured')\n",
    "_ = plt.axvline(mu_no_insurance, color='red', linestyle = ':', label='average charge for the uninsurance')\n",
    "\n",
    "_ = plt.xlabel('charges/ amount')\n",
    "_ = plt.ylabel('number of charges')\n",
    "_ = plt.title('histogram of for patient charges by category')\n",
    "_ = plt.legend()\n",
    "_ = plt.grid(alpha=0.3)\n",
    "\n",
    "\n"
   ]
  },
  {
   "cell_type": "code",
   "execution_count": 13,
   "metadata": {},
   "outputs": [
    {
     "name": "stdout",
     "output_type": "stream",
     "text": [
      "t_stat:  11.89329903087671\n",
      "p value:  0.0\n"
     ]
    }
   ],
   "source": [
    "# Calculate Manually\n",
    "\n",
    "# 1. Calculate the pooled standard deviation, sp\n",
    "num = ((n_with_insurance - 1) * s_with_insurance**2) + ((n_no_insurance - 1) * s_no_insurance**2)\n",
    "denom = n_with_insurance + n_no_insurance - 2\n",
    "sp = np.sqrt(num/denom)\n",
    "\n",
    "# 2. calculate the t-statistic for two independent samples\n",
    "num = mu_with_insurance - mu_no_insurance\n",
    "denom = sp * np.sqrt((1/n_with_insurance) + (1/n_no_insurance))\n",
    "t_manual = num/ denom\n",
    "print('t_stat: ', t_manual)\n",
    "\n",
    "# 3. p-value calculation\n",
    "df = n_with_insurance + n_no_insurance - 2\n",
    "p_val = (1 - stats.t.cdf(t_manual, df=df)) * 2 # for two-sided tail test\n",
    "print('p value: ', p_val)"
   ]
  },
  {
   "cell_type": "code",
   "execution_count": 14,
   "metadata": {
    "scrolled": true
   },
   "outputs": [
    {
     "data": {
      "text/plain": [
       "\u001b[0;31mSignature:\u001b[0m\n",
       "\u001b[0mstats\u001b[0m\u001b[0;34m.\u001b[0m\u001b[0mttest_ind_from_stats\u001b[0m\u001b[0;34m(\u001b[0m\u001b[0;34m\u001b[0m\n",
       "\u001b[0;34m\u001b[0m    \u001b[0mmean1\u001b[0m\u001b[0;34m,\u001b[0m\u001b[0;34m\u001b[0m\n",
       "\u001b[0;34m\u001b[0m    \u001b[0mstd1\u001b[0m\u001b[0;34m,\u001b[0m\u001b[0;34m\u001b[0m\n",
       "\u001b[0;34m\u001b[0m    \u001b[0mnobs1\u001b[0m\u001b[0;34m,\u001b[0m\u001b[0;34m\u001b[0m\n",
       "\u001b[0;34m\u001b[0m    \u001b[0mmean2\u001b[0m\u001b[0;34m,\u001b[0m\u001b[0;34m\u001b[0m\n",
       "\u001b[0;34m\u001b[0m    \u001b[0mstd2\u001b[0m\u001b[0;34m,\u001b[0m\u001b[0;34m\u001b[0m\n",
       "\u001b[0;34m\u001b[0m    \u001b[0mnobs2\u001b[0m\u001b[0;34m,\u001b[0m\u001b[0;34m\u001b[0m\n",
       "\u001b[0;34m\u001b[0m    \u001b[0mequal_var\u001b[0m\u001b[0;34m=\u001b[0m\u001b[0;32mTrue\u001b[0m\u001b[0;34m,\u001b[0m\u001b[0;34m\u001b[0m\n",
       "\u001b[0;34m\u001b[0m    \u001b[0malternative\u001b[0m\u001b[0;34m=\u001b[0m\u001b[0;34m'two-sided'\u001b[0m\u001b[0;34m,\u001b[0m\u001b[0;34m\u001b[0m\n",
       "\u001b[0;34m\u001b[0m\u001b[0;34m)\u001b[0m\u001b[0;34m\u001b[0m\u001b[0;34m\u001b[0m\u001b[0m\n",
       "\u001b[0;31mDocstring:\u001b[0m\n",
       "T-test for means of two independent samples from descriptive statistics.\n",
       "\n",
       "This is a test for the null hypothesis that two independent\n",
       "samples have identical average (expected) values.\n",
       "\n",
       "Parameters\n",
       "----------\n",
       "mean1 : array_like\n",
       "    The mean(s) of sample 1.\n",
       "std1 : array_like\n",
       "    The corrected sample standard deviation of sample 1 (i.e. ``ddof=1``).\n",
       "nobs1 : array_like\n",
       "    The number(s) of observations of sample 1.\n",
       "mean2 : array_like\n",
       "    The mean(s) of sample 2.\n",
       "std2 : array_like\n",
       "    The corrected sample standard deviation of sample 2 (i.e. ``ddof=1``).\n",
       "nobs2 : array_like\n",
       "    The number(s) of observations of sample 2.\n",
       "equal_var : bool, optional\n",
       "    If True (default), perform a standard independent 2 sample test\n",
       "    that assumes equal population variances [1]_.\n",
       "    If False, perform Welch's t-test, which does not assume equal\n",
       "    population variance [2]_.\n",
       "alternative : {'two-sided', 'less', 'greater'}, optional\n",
       "    Defines the alternative hypothesis.\n",
       "    The following options are available (default is 'two-sided'):\n",
       "\n",
       "    * 'two-sided': the means of the distributions are unequal.\n",
       "    * 'less': the mean of the first distribution is less than the\n",
       "      mean of the second distribution.\n",
       "    * 'greater': the mean of the first distribution is greater than the\n",
       "      mean of the second distribution.\n",
       "\n",
       "    .. versionadded:: 1.6.0\n",
       "\n",
       "Returns\n",
       "-------\n",
       "statistic : float or array\n",
       "    The calculated t-statistics.\n",
       "pvalue : float or array\n",
       "    The two-tailed p-value.\n",
       "\n",
       "See Also\n",
       "--------\n",
       "scipy.stats.ttest_ind\n",
       "\n",
       "Notes\n",
       "-----\n",
       "The statistic is calculated as ``(mean1 - mean2)/se``, where ``se`` is the\n",
       "standard error. Therefore, the statistic will be positive when `mean1` is\n",
       "greater than `mean2` and negative when `mean1` is less than `mean2`.\n",
       "\n",
       "This method does not check whether any of the elements of `std1` or `std2`\n",
       "are negative. If any elements of the `std1` or `std2` parameters are\n",
       "negative in a call to this method, this method will return the same result\n",
       "as if it were passed ``numpy.abs(std1)`` and ``numpy.abs(std2)``,\n",
       "respectively, instead; no exceptions or warnings will be emitted.\n",
       "\n",
       "References\n",
       "----------\n",
       ".. [1] https://en.wikipedia.org/wiki/T-test#Independent_two-sample_t-test\n",
       "\n",
       ".. [2] https://en.wikipedia.org/wiki/Welch%27s_t-test\n",
       "\n",
       "Examples\n",
       "--------\n",
       "Suppose we have the summary data for two samples, as follows (with the\n",
       "Sample Variance being the corrected sample variance)::\n",
       "\n",
       "                     Sample   Sample\n",
       "               Size   Mean   Variance\n",
       "    Sample 1    13    15.0     87.5\n",
       "    Sample 2    11    12.0     39.0\n",
       "\n",
       "Apply the t-test to this data (with the assumption that the population\n",
       "variances are equal):\n",
       "\n",
       ">>> import numpy as np\n",
       ">>> from scipy.stats import ttest_ind_from_stats\n",
       ">>> ttest_ind_from_stats(mean1=15.0, std1=np.sqrt(87.5), nobs1=13,\n",
       "...                      mean2=12.0, std2=np.sqrt(39.0), nobs2=11)\n",
       "Ttest_indResult(statistic=0.9051358093310269, pvalue=0.3751996797581487)\n",
       "\n",
       "For comparison, here is the data from which those summary statistics\n",
       "were taken.  With this data, we can compute the same result using\n",
       "`scipy.stats.ttest_ind`:\n",
       "\n",
       ">>> a = np.array([1, 3, 4, 6, 11, 13, 15, 19, 22, 24, 25, 26, 26])\n",
       ">>> b = np.array([2, 4, 6, 9, 11, 13, 14, 15, 18, 19, 21])\n",
       ">>> from scipy.stats import ttest_ind\n",
       ">>> ttest_ind(a, b)\n",
       "Ttest_indResult(statistic=0.905135809331027, pvalue=0.3751996797581486)\n",
       "\n",
       "Suppose we instead have binary data and would like to apply a t-test to\n",
       "compare the proportion of 1s in two independent groups::\n",
       "\n",
       "                      Number of    Sample     Sample\n",
       "                Size    ones        Mean     Variance\n",
       "    Sample 1    150      30         0.2        0.161073\n",
       "    Sample 2    200      45         0.225      0.175251\n",
       "\n",
       "The sample mean :math:`\\hat{p}` is the proportion of ones in the sample\n",
       "and the variance for a binary observation is estimated by\n",
       ":math:`\\hat{p}(1-\\hat{p})`.\n",
       "\n",
       ">>> ttest_ind_from_stats(mean1=0.2, std1=np.sqrt(0.161073), nobs1=150,\n",
       "...                      mean2=0.225, std2=np.sqrt(0.175251), nobs2=200)\n",
       "Ttest_indResult(statistic=-0.5627187905196761, pvalue=0.5739887114209541)\n",
       "\n",
       "For comparison, we could compute the t statistic and p-value using\n",
       "arrays of 0s and 1s and `scipy.stat.ttest_ind`, as above.\n",
       "\n",
       ">>> group1 = np.array([1]*30 + [0]*(150-30))\n",
       ">>> group2 = np.array([1]*45 + [0]*(200-45))\n",
       ">>> ttest_ind(group1, group2)\n",
       "Ttest_indResult(statistic=-0.5627179589855622, pvalue=0.573989277115258)\n",
       "\u001b[0;31mFile:\u001b[0m      ~/springboard/unit_11/venv_sb_unit_11/lib/python3.9/site-packages/scipy/stats/_stats_py.py\n",
       "\u001b[0;31mType:\u001b[0m      function"
      ]
     },
     "metadata": {},
     "output_type": "display_data"
    }
   ],
   "source": [
    "stats.ttest_ind_from_stats?"
   ]
  },
  {
   "cell_type": "code",
   "execution_count": 15,
   "metadata": {},
   "outputs": [
    {
     "name": "stdout",
     "output_type": "stream",
     "text": [
      "11.893299030876712 4.461230231620717e-31\n"
     ]
    }
   ],
   "source": [
    "t_stat, p_val = stats.ttest_ind_from_stats(mean1=mu_with_insurance,\n",
    "                                           std1=s_with_insurance,\n",
    "                                           nobs1=n_with_insurance,\n",
    "                                           mean2=mu_no_insurance,\n",
    "                                           std2=s_no_insurance,\n",
    "                                           nobs2=n_no_insurance,\n",
    "                                           alternative='two-sided')\n",
    "print(t_stat, p_val)"
   ]
  },
  {
   "cell_type": "markdown",
   "metadata": {},
   "source": [
    "Since p-value (~0) is less than the alpha of 0.05, this shows a strong evidence against the null hypothesis in favor of the alternative.\n",
    "Thus the average charges for the sample with insurance compared to the average charges for the sample without insurance are not the same."
   ]
  },
  {
   "cell_type": "markdown",
   "metadata": {},
   "source": [
    "Congratulations! Hopefully you got the exact same numerical results. This shows that you correctly calculated the numbers by hand. Secondly, you used the correct function and saw that it's much easier to use. All you need to do is pass your data to it."
   ]
  },
  {
   "cell_type": "markdown",
   "metadata": {},
   "source": [
    "__Q6:__ Conceptual question: look through the documentation for statistical test functions in scipy.stats. You'll see the above _t_-test for a sample, but can you see an equivalent one for performing a *z*-test from a sample? Comment on your answer."
   ]
  },
  {
   "cell_type": "markdown",
   "metadata": {},
   "source": [
    "__A:__ I cannot find an equivalent z-test in scipy.stats, so I will need to calculate this manually. This is probably because in practice a z-test is rarely used in the real world with sample data and we rarely ever know the population standard deviation."
   ]
  },
  {
   "cell_type": "markdown",
   "metadata": {},
   "source": [
    "## Learning outcomes"
   ]
  },
  {
   "cell_type": "markdown",
   "metadata": {},
   "source": [
    "Having completed this project notebook, you now have good hands-on experience:\n",
    "* using the central limit theorem to help you apply frequentist techniques to answer questions that pertain to very non-normally distributed data from the real world\n",
    "* performing inference using such data to answer business questions\n",
    "* forming a hypothesis and framing the null and alternative hypotheses\n",
    "* testing this using a _t_-test"
   ]
  },
  {
   "cell_type": "code",
   "execution_count": null,
   "metadata": {},
   "outputs": [],
   "source": []
  }
 ],
 "metadata": {
  "kernelspec": {
   "display_name": "Python 3 (ipykernel)",
   "language": "python",
   "name": "python3"
  },
  "language_info": {
   "codemirror_mode": {
    "name": "ipython",
    "version": 3
   },
   "file_extension": ".py",
   "mimetype": "text/x-python",
   "name": "python",
   "nbconvert_exporter": "python",
   "pygments_lexer": "ipython3",
   "version": "3.9.6"
  }
 },
 "nbformat": 4,
 "nbformat_minor": 4
}
